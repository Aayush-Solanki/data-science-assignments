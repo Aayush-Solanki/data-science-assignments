{
 "cells": [
  {
   "cell_type": "code",
   "execution_count": 11,
   "id": "0aef252c",
   "metadata": {},
   "outputs": [
    {
     "name": "stdout",
     "output_type": "stream",
     "text": [
      "Final R-squared Score: 0.8358581521234121\n"
     ]
    }
   ],
   "source": [
    "import pandas as pd\n",
    "import numpy as np\n",
    "from sklearn.model_selection import train_test_split\n",
    "from sklearn.linear_model import LinearRegression\n",
    "from sklearn.metrics import r2_score\n",
    "\n",
    "\n",
    "data = pd.read_csv(r\"C:\\Users\\Owner\\OneDrive\\Desktop\\data science assingment\\multi lenear regression\\ToyotaCorolla.csv\", encoding='latin1')\n",
    "\n",
    "\n",
    "data = data[[\"Price\", \"Age_08_04\", \"KM\", \"HP\", \"cc\", \"Doors\", \"Gears\", \"Quarterly_Tax\", \"Weight\", \"Fuel_Type\"]]\n",
    "\n",
    "\n",
    "data.dropna(inplace=True)\n",
    "\n",
    "\n",
    "data_encoded = pd.get_dummies(data, columns=[\"Fuel_Type\"])\n",
    "\n",
    "\n",
    "data_encoded_numeric = data_encoded.apply(pd.to_numeric, errors='coerce')\n",
    "\n",
    "\n",
    "data_encoded_numeric.dropna(inplace=True)\n",
    "\n",
    "\n",
    "X = data_encoded_numeric.drop(\"Price\", axis=1)\n",
    "y = data_encoded_numeric[\"Price\"]\n",
    "\n",
    "\n",
    "X_train, X_test, y_train, y_test = train_test_split(X, y, test_size=0.2, random_state=42)\n",
    "\n",
    "l\n",
    "model = LinearRegression()\n",
    "model.fit(X_train, y_train)\n",
    "\n",
    "\n",
    "y_pred = model.predict(X_test)\n",
    "\n",
    "r2_final = r2_score(y_test, y_pred)\n",
    "print(\"Final R-squared Score:\", r2_final)\n",
    "\n"
   ]
  },
  {
   "cell_type": "code",
   "execution_count": null,
   "id": "6d431b6e",
   "metadata": {},
   "outputs": [],
   "source": []
  }
 ],
 "metadata": {
  "kernelspec": {
   "display_name": "Python 3 (ipykernel)",
   "language": "python",
   "name": "python3"
  },
  "language_info": {
   "codemirror_mode": {
    "name": "ipython",
    "version": 3
   },
   "file_extension": ".py",
   "mimetype": "text/x-python",
   "name": "python",
   "nbconvert_exporter": "python",
   "pygments_lexer": "ipython3",
   "version": "3.11.5"
  }
 },
 "nbformat": 4,
 "nbformat_minor": 5
}
