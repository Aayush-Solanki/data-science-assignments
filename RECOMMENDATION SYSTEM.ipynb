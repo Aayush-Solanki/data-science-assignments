{
 "cells": [
  {
   "cell_type": "code",
   "execution_count": 1,
   "id": "e506dd46",
   "metadata": {},
   "outputs": [
    {
     "name": "stdout",
     "output_type": "stream",
     "text": [
      "Summary Statistics:\n",
      "          Item1     Item2    Item3\n",
      "count  4.000000  4.000000  4.00000\n",
      "mean   2.750000  2.750000  2.00000\n",
      "std    2.217356  2.217356  2.44949\n",
      "min    0.000000  0.000000  0.00000\n",
      "25%    1.500000  1.500000  0.00000\n",
      "50%    3.000000  3.000000  1.50000\n",
      "75%    4.250000  4.250000  3.50000\n",
      "max    5.000000  5.000000  5.00000\n",
      "\n",
      "Missing Values:\n",
      "Item1    0\n",
      "Item2    0\n",
      "Item3    0\n",
      "dtype: int64\n"
     ]
    },
    {
     "data": {
      "image/png": "[encoded data removed]",
      "text/plain": [
       "<Figure size 1000x500 with 1 Axes>"
      ]
     },
     "metadata": {},
     "output_type": "display_data"
    },
    {
     "name": "stdout",
     "output_type": "stream",
     "text": [
      "\n",
      "User-Based Collaborative Filtering - Recommendations for User1:\n",
      "Item1    3.0\n",
      "Item2    3.0\n",
      "Item3    2.5\n",
      "dtype: float64\n",
      "\n",
      "Item-Based Collaborative Filtering - Recommendations for Item1:\n",
      "User\n",
      "User4    4.5\n",
      "User3    2.5\n",
      "User1    1.5\n",
      "User2    1.0\n",
      "dtype: float64\n"
     ]
    }
   ],
   "source": [
    "import pandas as pd\n",
    "from sklearn.metrics.pairwise import cosine_similarity\n",
    "import seaborn as sns\n",
    "import matplotlib.pyplot as plt\n",
    "\n",
    "data = {\n",
    "    'User': ['User1', 'User2', 'User3', 'User4'],\n",
    "    'Item1': [5, 4, 0, 2],\n",
    "    'Item2': [0, 2, 5, 4],\n",
    "    'Item3': [3, 0, 0, 5],\n",
    "}\n",
    "df = pd.DataFrame(data)\n",
    "df.set_index('User', inplace=True)\n",
    "\n",
    "print(\"Summary Statistics:\")\n",
    "print(df.describe())\n",
    "\n",
    "print(\"\\nMissing Values:\")\n",
    "print(df.isnull().sum())\n",
    "\n",
    "plt.figure(figsize=(10, 5))\n",
    "sns.boxplot(data=df)\n",
    "plt.title('Item Ratings Distribution')\n",
    "plt.show()\n",
    "\n",
    "user_similarity = cosine_similarity(df)\n",
    "user_similarity_df = pd.DataFrame(user_similarity, index=df.index, columns=df.index)\n",
    "\n",
    "def get_user_recommendations(user, top_n=2):\n",
    "    similar_users = user_similarity_df[user].sort_values(ascending=False).index[1:top_n+1]\n",
    "    recommended_items = df.loc[similar_users].mean(axis=0).sort_values(ascending=False)\n",
    "    return recommended_items\n",
    "\n",
    "user1_recommendations = get_user_recommendations('User1')\n",
    "print(\"\\nUser-Based Collaborative Filtering - Recommendations for User1:\")\n",
    "print(user1_recommendations)\n",
    "\n",
    "item_similarity = cosine_similarity(df.T)\n",
    "item_similarity_df = pd.DataFrame(item_similarity, index=df.columns, columns=df.columns)\n",
    "\n",
    "def get_item_recommendations(item, top_n=2):\n",
    "    similar_items = item_similarity_df[item].sort_values(ascending=False).index[1:top_n+1]\n",
    "    recommended_items = df[similar_items].mean(axis=1).sort_values(ascending=False)\n",
    "    return recommended_items\n",
    "\n",
    "item1_recommendations = get_item_recommendations('Item1')\n",
    "print(\"\\nItem-Based Collaborative Filtering - Recommendations for Item1:\")\n",
    "print(item1_recommendations)\n"
   ]
  },
  {
   "cell_type": "code",
   "execution_count": null,
   "id": "f28709e3",
   "metadata": {},
   "outputs": [],
   "source": []
  }
 ],
 "metadata": {
  "kernelspec": {
   "display_name": "Python 3 (ipykernel)",
   "language": "python",
   "name": "python3"
  },
  "language_info": {
   "codemirror_mode": {
    "name": "ipython",
    "version": 3
   },
   "file_extension": ".py",
   "mimetype": "text/x-python",
   "name": "python",
   "nbconvert_exporter": "python",
   "pygments_lexer": "ipython3",
   "version": "3.11.5"
  }
 },
 "nbformat": 4,
 "nbformat_minor": 5
}
