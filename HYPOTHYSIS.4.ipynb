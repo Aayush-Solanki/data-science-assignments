{
 "cells": [
  {
   "cell_type": "code",
   "execution_count": 13,
   "id": "f8405932",
   "metadata": {},
   "outputs": [
    {
     "name": "stdout",
     "output_type": "stream",
     "text": [
      "Dataset Overview:\n",
      "  Phillippines   Indonesia       Malta       India\n",
      "0   Error Free  Error Free   Defective  Error Free\n",
      "1   Error Free  Error Free  Error Free   Defective\n",
      "2   Error Free   Defective   Defective  Error Free\n",
      "3   Error Free  Error Free  Error Free  Error Free\n",
      "4   Error Free  Error Free   Defective  Error Free\n",
      "\n",
      "Chi-square statistic: 3.1001395592512266\n",
      "P-value (chi-square): 0.6845505149379718\n",
      "Fail to reject the null hypothesis. There is no significant association between product status and countries.\n"
     ]
    }
   ],
   "source": [
    "import pandas as pd\n",
    "import seaborn as sns\n",
    "import matplotlib.pyplot as plt\n",
    "from scipy.stats import chi2_contingency\n",
    "\n",
    "\n",
    "df = pd.read_csv(r\"C:\\Users\\Owner\\OneDrive\\Desktop\\data science assingment\\assignments\\hypothysis testing\\Costomer+OrderForm.csv\")\n",
    "\n",
    "\n",
    "print(\"Dataset Overview:\")\n",
    "print(df.head())\n",
    "\n",
    "\n",
    "contingency_table = pd.crosstab(df['Phillippines'], [df['Indonesia'], df['Malta'], df['India']])\n",
    "\n",
    "\n",
    "chi2_stat, p_value, dof, expected = chi2_contingency(contingency_table)\n",
    "\n",
    "\n",
    "print(f'\\nChi-square statistic: {chi2_stat}')\n",
    "print(f'P-value (chi-square): {p_value}')\n",
    "if p_value < 0.05:\n",
    "    print('Reject the null hypothesis. There is a significant association between product status and countries.')\n",
    "else:\n",
    "    print('Fail to reject the null hypothesis. There is no significant association between product status and countries.')\n"
   ]
  },
  {
   "cell_type": "code",
   "execution_count": null,
   "id": "890b1013",
   "metadata": {},
   "outputs": [],
   "source": []
  }
 ],
 "metadata": {
  "kernelspec": {
   "display_name": "Python 3 (ipykernel)",
   "language": "python",
   "name": "python3"
  },
  "language_info": {
   "codemirror_mode": {
    "name": "ipython",
    "version": 3
   },
   "file_extension": ".py",
   "mimetype": "text/x-python",
   "name": "python",
   "nbconvert_exporter": "python",
   "pygments_lexer": "ipython3",
   "version": "3.11.5"
  }
 },
 "nbformat": 4,
 "nbformat_minor": 5
}
