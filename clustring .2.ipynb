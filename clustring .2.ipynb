{
 "cells": [
  {
   "cell_type": "code",
   "execution_count": 2,
   "id": "aafcb9ad",
   "metadata": {},
   "outputs": [
    {
     "name": "stdout",
     "output_type": "stream",
     "text": [
      "                                          Unnamed: 0 Unnamed: 1  \\\n",
      "0  Source: Based upon real business data; company...        NaN   \n",
      "1             (c) 2016 Galit Shmueli and Peter Bruce        NaN   \n",
      "2                                                NaN        NaN   \n",
      "3                                                NaN        NaN   \n",
      "4                                         Field Name  Data Type   \n",
      "\n",
      "        Unnamed: 2                         Unnamed: 3   Unnamed: 4  \n",
      "0              NaN                                NaN          NaN  \n",
      "1              NaN                                NaN          NaN  \n",
      "2              NaN                                NaN          NaN  \n",
      "3              NaN                                NaN          NaN  \n",
      "4  Max Data Length  Raw Data or Telcom Created Field?  Description  \n",
      "Unnamed: 0     6\n",
      "Unnamed: 1     9\n",
      "Unnamed: 2    16\n",
      "Unnamed: 3     9\n",
      "Unnamed: 4     4\n",
      "dtype: int64\n",
      "                                               Unnamed: 0 Unnamed: 1  \\\n",
      "count                                                  16         13   \n",
      "unique                                                 16          3   \n",
      "top     Source: Based upon real business data; company...     NUMBER   \n",
      "freq                                                    1          9   \n",
      "\n",
      "        Unnamed: 2 Unnamed: 3   Unnamed: 4  \n",
      "count            6         13           18  \n",
      "unique           3          3           18  \n",
      "top              1        Raw  Description  \n",
      "freq             3          9            1  \n"
     ]
    }
   ],
   "source": [
    "file_path = r\"C:\\Users\\Owner\\OneDrive\\Desktop\\data science assingment\\assignments\\clustering\\EastWestAirlines.xlsx\"\n",
    "data_df = pd.read_excel(file_path, skiprows=4)\n",
    "\n",
    "\n",
    "print(data_df.head())\n",
    "\n",
    "\n",
    "print(data_df.isnull().sum())\n",
    "\n",
    "\n",
    "print(data_df.describe())"
   ]
  },
  {
   "cell_type": "code",
   "execution_count": 14,
   "id": "82ab1a24",
   "metadata": {},
   "outputs": [],
   "source": [
    "#IN this data set their is some problem this dataset file is not working properly.Jupyter notebook in not able to read that excel file  "
   ]
  },
  {
   "cell_type": "code",
   "execution_count": null,
   "id": "78a4964b",
   "metadata": {},
   "outputs": [],
   "source": []
  }
 ],
 "metadata": {
  "kernelspec": {
   "display_name": "Python 3 (ipykernel)",
   "language": "python",
   "name": "python3"
  },
  "language_info": {
   "codemirror_mode": {
    "name": "ipython",
    "version": 3
   },
   "file_extension": ".py",
   "mimetype": "text/x-python",
   "name": "python",
   "nbconvert_exporter": "python",
   "pygments_lexer": "ipython3",
   "version": "3.11.5"
  }
 },
 "nbformat": 4,
 "nbformat_minor": 5
}
