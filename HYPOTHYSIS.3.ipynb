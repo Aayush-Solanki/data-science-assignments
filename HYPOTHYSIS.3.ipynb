{
 "cells": [
  {
   "cell_type": "code",
   "execution_count": 1,
   "id": "3de64d0c",
   "metadata": {},
   "outputs": [
    {
     "name": "stdout",
     "output_type": "stream",
     "text": [
      "One-Way ANOVA F-statistic: 8.171945701357465\n",
      "P-value: 0.0057587818086864756\n",
      "Reject the null hypothesis. There is a significant difference in average exam scores among the schools.\n"
     ]
    }
   ],
   "source": [
    "import pandas as pd\n",
    "from scipy.stats import f_oneway\n",
    "\n",
    "\n",
    "data = {\n",
    "    'School_A': [80, 85, 88, 90, 92],\n",
    "    'School_B': [75, 78, 82, 85, 88],\n",
    "    'School_C': [70, 72, 75, 78, 80]\n",
    "}\n",
    "\n",
    "\n",
    "df = pd.DataFrame(data)\n",
    "\n",
    "\n",
    "f_statistic, p_value = f_oneway(df['School_A'], df['School_B'], df['School_C'])\n",
    "\n",
    "\n",
    "print(f'One-Way ANOVA F-statistic: {f_statistic}')\n",
    "print(f'P-value: {p_value}')\n",
    "\n",
    "if p_value < 0.05:\n",
    "    print('Reject the null hypothesis. There is a significant difference in average exam scores among the schools.')\n",
    "else:\n",
    "    print('Fail to reject the null hypothesis. There is no significant difference in average exam scores among the schools.')"
   ]
  },
  {
   "cell_type": "code",
   "execution_count": 2,
   "id": "932cd493",
   "metadata": {},
   "outputs": [
    {
     "name": "stdout",
     "output_type": "stream",
     "text": [
      "Chi-square statistic: 48.505050505050505\n",
      "P-value: 3.2943936056491247e-12\n",
      "Reject the null hypothesis. There is a significant association between smoking habits and lung cancer.\n"
     ]
    }
   ],
   "source": [
    "import pandas as pd\n",
    "from scipy.stats import chi2_contingency\n",
    "\n",
    "\n",
    "data = {\n",
    "    'Smoker': [80, 20],\n",
    "    'Non-Smoker': [30, 70]\n",
    "}\n",
    "\n",
    "\n",
    "df = pd.DataFrame(data, index=['Lung Cancer', 'No Lung Cancer'])\n",
    "\n",
    "\n",
    "chi2_stat, p_value, _, _ = chi2_contingency(df)\n",
    "\n",
    "\n",
    "print(f'Chi-square statistic: {chi2_stat}')\n",
    "print(f'P-value: {p_value}')\n",
    "\n",
    "if p_value < 0.05:\n",
    "    print('Reject the null hypothesis. There is a significant association between smoking habits and lung cancer.')\n",
    "else:\n",
    "    print('Fail to reject the null hypothesis. There is no significant association between smoking habits and lung cancer.')"
   ]
  },
  {
   "cell_type": "code",
   "execution_count": null,
   "id": "59992d45",
   "metadata": {},
   "outputs": [],
   "source": []
  }
 ],
 "metadata": {
  "kernelspec": {
   "display_name": "Python 3 (ipykernel)",
   "language": "python",
   "name": "python3"
  },
  "language_info": {
   "codemirror_mode": {
    "name": "ipython",
    "version": 3
   },
   "file_extension": ".py",
   "mimetype": "text/x-python",
   "name": "python",
   "nbconvert_exporter": "python",
   "pygments_lexer": "ipython3",
   "version": "3.11.5"
  }
 },
 "nbformat": 4,
 "nbformat_minor": 5
}
